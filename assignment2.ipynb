{
  "nbformat": 4,
  "nbformat_minor": 0,
  "metadata": {
    "colab": {
      "provenance": []
    },
    "kernelspec": {
      "name": "python3",
      "display_name": "Python 3"
    },
    "language_info": {
      "name": "python"
    }
  },
  "cells": [
    {
      "cell_type": "code",
      "execution_count": null,
      "metadata": {
        "id": "6HVEsgkipnYI"
      },
      "outputs": [],
      "source": []
    },
    {
      "cell_type": "markdown",
      "source": [
        "# Assignment - 2 :- (Data Types and Structures)"
      ],
      "metadata": {
        "id": "hr4POSmypxKG"
      }
    },
    {
      "cell_type": "markdown",
      "source": [
        "1. What are data structures, and why are they important ?\n",
        "   - Data structures are specialized formats for organizing, managing, and storing data in a way that enables efficient access and modification.\n",
        "   - They provide a means to work with data effectively and form the foundation for algorithms, enabling problem-solving in computer science and programming.\n",
        "\n",
        "   Types of Data Structures:-\n",
        "     1. Linear Data Structures:\n",
        "     2. Non-Linear Data Structures:\n",
        "     3. Hash-based Data Structures:\n",
        "     4. Other Advanced Data Structures:\n",
        "\n",
        "   Importance of Data Structures :-\n",
        "\n",
        "     - Efficient Data Management:\n",
        "     - Optimized Performance:\n",
        "     - Solving Complex Problems:\n",
        "     - Scalability:\n",
        "     - Foundation for Algorithms:\n",
        "     - Domain-Specific Applications:\n",
        "\n",
        "2. Explain the difference between mutable and immutable data types with examples\n",
        "    - Mutable Data Types :-\n",
        "      - Definition: Objects whose values can be modified after creation.\n",
        "      -Examples:\n",
        "\n",
        "        Lists\n",
        "\n",
        "        Dictionaries\n",
        "\n",
        "        Sets\n",
        "\n",
        "        Custom objects\n",
        "\n",
        "  Example: List\n",
        "\n",
        "  # Example of a mutable data type (list)\n",
        "       my_list = [1, 2, 3]\n",
        "       print(my_list)  # Output: [1, 2, 3]\n",
        "\n",
        "       my_list[0] = 100\n",
        "       print(my_list)  # Output: [100, 2, 3]\n",
        "\n",
        "       my_list.append(4)\n",
        "       print(my_list)  # Output: [100, 2, 3, 4]\n",
        "\n",
        "- Immutable Data Types :-\n",
        "  - Definition: Objects whose values cannot be modified after creation.\n",
        "  - Examples:\n",
        "\n",
        "     Integers\n",
        "\n",
        "     Floats\n",
        "\n",
        "     Strings\n",
        "\n",
        "     Tuples\n",
        "\n",
        "     Frozensets\n",
        "\n",
        "  Example: String\n",
        "\n",
        "  # Example of an immutable data type (string)\n",
        "\n",
        "     my_string = \"hello\"\n",
        "\n",
        "     print(my_string)\n",
        "\n",
        "     new_string = my_string.replace(\"h\", \"j\")\n",
        "\n",
        "     print(my_string)\n",
        "\n",
        "     print(new_string)\n",
        "\n",
        "3. What are the main differences between lists and tuples in Python ?\n",
        "   - \tList :-\n",
        "      - Mutable (can be modified)\n",
        "      - Defined with square brackets []\n",
        "      - Slower due to mutability\n",
        "      -Suitable for dynamic collections that change\n",
        "      - Requires more memory\n",
        "      - Rich set of methods (e.g., append, pop, remove)\n",
        "      - Unhashable (cannot be used as keys in dictionaries or elements in sets)\n",
        "\n",
        "   - \tTuple :-\n",
        "      - Immutable (cannot be modified)\n",
        "      - Defined with parentheses ()\n",
        "      - Faster due to immutability\n",
        "      - Suitable for fixed collections or constant data\n",
        "      - Requires less memory\n",
        "      - Fewer methods (e.g., count, index)\n",
        "      - Hashable (can be used as keys in dictionaries or elements in sets, if it contains only hashable items)\n",
        "\n",
        "4. Describe how dictionaries store data ?\n",
        "   - Dictionaries in Python store data as key-value pairs using a highly efficient data structure known as a hash table. This design enables dictionaries to provide fast lookups, insertions, and deletions, typically with an average time complexity of\n",
        "𝑂\n",
        "(\n",
        "1\n",
        ")\n",
        "O(1).\n",
        "   - In Python, dictionaries store key-value pairs using a hash table. Here's a summary of how they work:\n",
        "\n",
        "    1. Keys: Must be unique and immutable (e.g., strings, numbers, tuples).\n",
        "    2. Hashing: Keys are hashed using the hash() function to generate an index in the hash table.\n",
        "    3. Storage: The key-value pair is stored at the computed index\n",
        "    4. Collisions: If two keys hash to the same index, Python resolves this with techniques like chaining (storing multiple pairs in a bucket).\n",
        "    5. Lookup: To retrieve a value, Python hashes the key, finds the index, and searches the bucket.\n",
        "\n",
        "   - They are efficient, dynamic, and widely used in Python.\n",
        "\n",
        "5. Why might you use a set instead of a list in Python ?\n",
        "   - You might use a set instead of a list in Python when you need to store a collection of unique elements and perform operations like membership testing, union, intersection, or difference efficiently.\n",
        "   - Here are the key reasons for choosing a set over a list\n",
        "\n",
        "   1. Unique Elements\n",
        "   2. Faster Membership Testing\n",
        "   3.  Set Operations\n",
        "\n",
        "   - When to Use a Set:-\n",
        "     - When you need unique elements.\n",
        "\n",
        "    - For fast membership checks.\n",
        "\n",
        "    - To perform set operations like union or intersection.\n",
        "\n",
        "    - When the order of elements doesn't matter (sets are unordered).\n",
        "\n",
        "   - When to Use a List :-\n",
        "     - When you need ordered elements.\n",
        "\n",
        "     - If duplicates are allowed.\n",
        "\n",
        "     - For operations involving indexing or slicing.\n",
        "\n",
        "6. What is a string in Python, and how is it different from a list ?\n",
        "\n",
        "  - A string in Python is a sequence of characters used to represent textual data. It is an immutable data type, meaning its content cannot be modified after creation. Strings are enclosed in either single ('), double (\"), or triple quotes (''' or \"\"\"`).\n",
        "\n",
        "  - \tString :-\n",
        "     - Sequence of characters\n",
        "     - Immutable (cannot be modified)\n",
        "     - Always characters (str)\n",
        "     - \tEnclosed in quotes ('abc')\n",
        "     - String-specific methods (e.g., .upper(), .split())\n",
        "     - Optimized for text manipulation\n",
        "     - Supported\n",
        "\n",
        "  -  \tList :-\n",
        "     - Sequence of elements (can be of any type)\n",
        "     - Mutable (can be modified)\n",
        "     - Can contain elements of any type (e.g., integers, strings, other lists)\n",
        "     - Enclosed in square brackets ([1, 2, 3])\n",
        "     - List-specific methods (e.g., .append(), .extend())\n",
        "     - Optimized for general-purpose collections\n",
        "\n",
        "7. How do tuples ensure data integrity in Python ?\n",
        "   - Tuples ensure data integrity in Python through their immutability, meaning their contents cannot be modified after creation. This property makes tuples an excellent choice for situations where you need to store data that should remain constant throughout the program's execution. Here’s how tuples ensure data integrity\n",
        "\n",
        "   1. Immutability :-\n",
        "     - Tuples are immutable, which means:\n",
        "    - You cannot change, add, or remove elements after the tuple is created.\n",
        "     - This immutability ensures that the data remains consistent and unaltered\n",
        "\n",
        " 2. Hashability :-\n",
        "\n",
        "     - Tuples are hashable if they contain only immutable elements. This allows them to be used as keys in dictionaries or elements in sets, ensuring data consistency in mappings.\n",
        "\n",
        "  3. Protection Against Accidental Changes :-\n",
        "     - Since tuples cannot be modified, they protect data from unintentional changes that might occur in mutable structures like lists. This is especially useful in large programs or when passing data between functions.\n",
        "\n",
        "  4. Read-Only Nature :-\n",
        "     - Tuples are designed for read-only operations. Once created, they are used for accessing and representing data, rather than manipulating it.\n",
        "\n",
        "8. What is a hash table, and how does it relate to dictionaries in Python ?\n",
        "   - A hash table is a data structure that stores data in an associative array format, enabling fast lookups, insertions, and deletions. It achieves this efficiency by using a hash function to map keys to indices in an underlying array, where the corresponding values are stored.\n",
        "   - In Python, dictionaries are implemented using hash tables, making them one of the most efficient and versatile data structures for key-value pair storage.\n",
        "\n",
        "   How Python Dictionaries Use Hash Tables :-\n",
        "      1. Key Hashing\n",
        "      2. Efficient Lookup\n",
        "      3. Collision Handling\n",
        "      4. Dynamic Resizing\n",
        "\n",
        "9. Can lists contain different data types in Python ?\n",
        "\n",
        "   -\n",
        "Yes, lists in Python can contain different data types. Unlike arrays in some other programming languages, Python lists are heterogeneous, meaning that a single list can store elements of various data types, such as integers, strings, floats, and even other lists or objects\n",
        "\n",
        " - Example: A List with Mixed Data Types :-\n",
        "\n",
        "     my_list = [1, \"hello\", 3.14, [1, 2], True]\n",
        "     \n",
        "     print(my_list)\n",
        "\n",
        " -In this example:\n",
        "    - 1 is an integer,\n",
        "    - \"hello\" is a string,\n",
        "    - 3.14 is a float,\n",
        "    - [1, 2] is another list (nested list),\n",
        "    - True is a boolean value.\n",
        "\n",
        "10. Explain why strings are immutable in Python ?\n",
        "\n",
        "    - Strings in Python are immutable, meaning once a string is created, it cannot be modified. This design choice offers several benefits in terms of efficiency, security, and simplicity in handling strings. Here’s why strings are immutable\n",
        "\n",
        "    1. Efficiency and Performance :-\n",
        "      - Memory Optimization: Since strings are immutable, Python can optimize memory usage. When you create a new string, Python can share the same memory location for identical strings (interning) instead of duplicating them, thus saving memory.\n",
        "      - No Copying on Re-assignment: When you modify a string, Python doesn’t modify the existing string object but instead creates a new string object. This can help in maintaining a predictable and consistent state, as no string data is overwritten unintentionally.\n",
        "\n",
        "    2. Hashing and Use as Dictionary Keys :-\n",
        "     - Hashable Objects: Python strings are hashable, meaning they can be used as keys in dictionaries or as elements in sets. The hash value of a string depends on its content. If the string were mutable, its content could change, which would change its hash value, breaking the integrity of data structures like dictionaries or sets.\n",
        "\n",
        "    3. Security :-\n",
        "     - Data Integrity: By making strings immutable, Python ensures that string data remains consistent and secure throughout the program. Any accidental modification of a string is avoided. This is particularly useful when strings are passed around in the code since you don't have to worry about other parts of the program unintentionally altering the value.\n",
        "\n",
        "    4. Predictable Behavior :-\n",
        "      -Avoiding Side Effects: Because strings are immutable, you don’t have to worry about unexpected side effects when working with them. If a function receives a string, it can be confident that the string will not be changed during the function's execution. This is crucial for functional programming principles and leads to fewer bugs.\n",
        "\n",
        "11. What advantages do dictionaries offer over lists for certain tasks ?\n",
        "   - Dictionaries and lists are both common data structures, but they serve different purposes and offer distinct advantages depending on the task. Here's why dictionaries might be preferred over lists in certain situations\n",
        "  -  Dictionaries are better than lists for tasks that require:\n",
        "      1. Key-Value Mapping: Easy association of meaningful keys with values\n",
        "      2. Fast Lookups:\n",
        "𝑂\n",
        "(\n",
        "1\n",
        ")\n",
        "O(1) retrieval by key, compared to\n",
        "𝑂\n",
        "(\n",
        "𝑛\n",
        ")\n",
        "O(n) in lists.\n",
        "     3. Unique Keys: Automatically ensures unique identifiers.\n",
        "     4. Flexibility: Dynamic addition/removal of key-value pairs\n",
        "     5. Improved Readability: Descriptive keys make the code clearer.\n",
        "     6. Non-Sequential Access: Data retrieval without relying on order.\n",
        "\n",
        "12. Describe a scenario where using a tuple would be preferable over a list ?\n",
        "\n",
        "  - Scenario: Storing Coordinates of a Point :-\n",
        "     - Suppose you're working with a program that deals with geometric shapes or locations, and you need to store the coordinates of a point in 2D or 3D space, such as\n",
        "(\n",
        "𝑥\n",
        ",\n",
        "𝑦\n",
        ")\n",
        "(x,y) or\n",
        "(\n",
        "𝑥\n",
        ",\n",
        "𝑦\n",
        ",\n",
        "𝑧\n",
        ")\n",
        "(x,y,z).\n",
        "\n",
        "     Why Use a Tuple? :-\n",
        "     1. Immutability: Coordinates should not change accidentally, ensuring data integrity. Using a tuple prevents modifications, making it a safer choice.\n",
        "     2. Semantic Meaning: A tuple clearly indicates that the data is fixed and grouped logically, like coordinates, whereas a list implies the potential for changes.\n",
        "     3. Performance: Tuples are more memory-efficient and faster than lists, which is beneficial when handling large datasets of fixed values.\n",
        "\n",
        "13. How do sets handle duplicate values in Python ?\n",
        "     - In Python, sets automatically eliminate duplicate values. When you add elements to a set, it only keeps unique values by checking for duplicates and discarding them. Here's how it works\n",
        "       1. Unique Elements: Sets do not allow duplicate values. If you attempt to add a duplicate, it is ignored.\n",
        "       2. Unordered Collection: Sets do not maintain any specific order of elements.\n",
        "\n",
        "     Example:-\n",
        "\n",
        "        numbers = {1, 2, 2, 3, 4, 4, 5}\n",
        "\n",
        "        print(numbers)  # Output: {1, 2, 3, 4, 5}\n",
        "\n",
        "14. How does the “in” keyword work differently for lists and dictionaries ?\n",
        "   - The in keyword is used to check membership, but it works differently for lists and dictionaries in Python due to the structure of these data types\n",
        "     1.  For Lists:\n",
        "        - The in keyword checks if a value is present in the list. It performs a linear search, meaning the time complexity is\n",
        "𝑂\n",
        "(\n",
        "𝑛\n",
        ")\n",
        "O(n), where\n",
        "𝑛\n",
        "n is the length of the list.\n",
        "\n",
        "     2. For Dictionaries:\n",
        "        - The in keyword checks if a key is present in the dictionary. It does not check the values. This is much faster because dictionaries use a hash table for key lookups, with an average time complexity of\n",
        "𝑂\n",
        "(\n",
        "1\n",
        ")\n",
        "O(1).\n",
        "  - When working with dictionaries, if you need to check for a value, you must explicitly use .values(). Similarly, to check for both keys and values, you can use .items().\n",
        "\n",
        "15. Can you modify the elements of a tuple? Explain why or why not ?\n",
        "   - No, you cannot modify the elements of a tuple in Python because tuples are immutable. This means that once a tuple is created, its contents cannot be changed, added to, or removed.\n",
        "   - Why Are Tuples Immutable?\n",
        "      1. Design Choice: The immutability of tuples provides certain guarantees about their state, making them reliable for use as keys in dictionaries or elements in sets.\n",
        "      2. Optimization: Tuples are more memory-efficient and faster than lists, partially because their immutability allows the interpreter to make certain optimizations.\n",
        "    - Example: Attempting to Modify a Tuple\n",
        "\n",
        "        my_tuple = (1, 2, 3)\n",
        "\n",
        "        my_tuple[0] = 10 t\n",
        "\n",
        "16. What is a nested dictionary, and give an example of its use case ?\n",
        "   - A nested dictionary is a dictionary where the values can themselves be dictionaries. This structure allows you to store complex data hierarchically, making it easier to represent and manage relationships between data.\n",
        "\n",
        "   - Example :-\n",
        "\n",
        "     students = {\n",
        "\n",
        "     \"Alice\": {\n",
        "\n",
        "        \"Math\": 95,\n",
        "        \"English\": 88,\n",
        "        \"Science\": 92\n",
        "     },\n",
        "     \"Bob\": {\n",
        "\n",
        "        \"Math\": 78,\n",
        "        \"English\": 85,\n",
        "        \"Science\": 80\n",
        "     },\n",
        "     \"Charlie\": {\n",
        "\n",
        "        \"Math\": 88,\n",
        "        \"English\": 90,\n",
        "        \"Science\": 85\n",
        "     }\n",
        "}\n",
        "\n",
        "print(students[\"Bob\"][\"Science\"])  # Output: 80\n",
        "\n",
        "students[\"Alice\"][\"History\"] = 89\n",
        "\n",
        "print(students[\"Alice\"])\n",
        "\n",
        "17. Describe the time complexity of accessing elements in a dictionary ?\n",
        "   - The time complexity of accessing elements in a dictionary in Python depends on the operation being performed, but in most cases, it is highly efficient\n",
        "   1. Average Case:\n",
        "𝑂\n",
        "(\n",
        "1\n",
        ")\n",
        "O(1)\n",
        "     - Reason :-\n",
        "        - Python dictionaries are implemented as hash tables\n",
        "        - Each key is hashed to produce a hash value, which determines the location of the corresponding value in memory.\n",
        "        - Accessing a value by key typically requires a single lookup in the hash table.\n",
        "\n",
        "   2. Worst Case:\n",
        "𝑂\n",
        "(\n",
        "𝑛\n",
        ")\n",
        "O(n)\n",
        "    - Reason :-\n",
        "\n",
        "      - In rare cases, hash collisions may occur, where multiple keys hash to the same location. This requires resolving the collision (e.g., using chaining or open addressing), which can degrade performance.\n",
        "      - If many collisions occur, the dictionary may degenerate into a structure resembling a linked list, making lookups\n",
        "𝑂\n",
        "(\n",
        "𝑛\n",
        ")\n",
        "O(n).\n",
        "\n",
        "   3. Amortized Cost for Resizing:-\n",
        "      - Occasionally, the dictionary must resize itself to accommodate more elements, which involves rehashing all existing keys. This operation is more expensive (\n",
        "𝑂\n",
        "(\n",
        "𝑛\n",
        ")\n",
        "O(n)), but it happens infrequently, so the amortized cost of insertions and lookups remains\n",
        "𝑂\n",
        "(\n",
        "1\n",
        ")\n",
        "O(1) on average.\n",
        "\n",
        "18. In what situations are lists preferred over dictionaries ?\n",
        "   - Lists are preferred over dictionaries when\n",
        "       1. Order Matters: Maintain the sequence of elements.\n",
        "       2. Simple Data: No need for key-value pairs.\n",
        "       3. Indexed Access: Retrieve items by position (\n",
        "𝑂\n",
        "(\n",
        "1\n",
        ")\n",
        "O(1)).\n",
        "       4. Iteration: Easier to loop through values\n",
        "       5. Homogeneous Data: Store similar items (e.g., names, numbers).\n",
        "       6. Lightweight: More memory-efficient for simple collections.\n",
        "       7. Easy Growth: Append or extend without keys.\n",
        "\n",
        "19. Why are dictionaries considered unordered, and how does that affect data retrieval ?\n",
        "   - Dictionaries in Python are considered unordered because they do not maintain the order of elements based on their insertion sequence. Instead, dictionaries use a hash table to store key-value pairs, where the keys are hashed to specific locations in memory, and the values are stored at those locations. This approach prioritizes fast lookups over maintaining order.\n",
        "    - Why Are Dictionaries Unordered?\n",
        "       - Hashing Mechanism: Keys in a dictionary are hashed to determine their storage location. This hashing process doesn't preserve the order of the keys in the way lists or tuples do.\n",
        "       - Efficiency Over Order: The primary goal of dictionaries is to provide fast access to values using keys, which typically occurs in constant time,\n",
        "𝑂\n",
        "(\n",
        "1\n",
        ")\n",
        "O(1), on average. This is more important than keeping the insertion order.\n",
        "\n",
        "20. Explain the difference between a list and a dictionary in terms of data retrieval.\n",
        "     - List: Data is accessed by index (position-based) and is ordered. Retrieval by index is\n",
        "𝑂\n",
        "(\n",
        "1\n",
        ")\n",
        "O(1), but searching by value is\n",
        "𝑂\n",
        "(\n",
        "𝑛\n",
        ")\n",
        "O(n).\n",
        "     - Dictionary: Data is accessed by key (meaningful identifier) and is unordered (though insertion order is preserved in Python 3.7+). Retrieval by key is\n",
        "𝑂\n",
        "(\n",
        "1\n",
        ")\n",
        "O(1), but searching by value is\n",
        "𝑂\n",
        "(\n",
        "𝑛\n",
        ")\n",
        "O(n).\n",
        "    - Use Lists when order matters and you need indexed access.\n",
        "    - Use Dictionaries when you need fast lookups by unique keys.\n",
        "\n",
        "\n",
        "\n",
        "\n",
        "\n",
        "\n",
        "\n",
        "\n",
        "\n",
        "\n",
        "\n",
        "\n",
        "\n",
        "\n",
        "\n",
        "\n",
        "\n",
        "\n",
        "       \n",
        "    \n",
        "\n",
        "\n",
        "\n",
        "\n",
        "\n",
        "\n",
        "\n",
        "\n",
        "\n",
        "\n",
        "\n",
        "\n",
        "\n",
        "   \n",
        "\n"
      ],
      "metadata": {
        "id": "HrXKqnXQqFMf"
      }
    },
    {
      "cell_type": "markdown",
      "source": [
        "# Practical Questions :-"
      ],
      "metadata": {
        "id": "Y6geoiJ_mRRs"
      }
    },
    {
      "cell_type": "code",
      "source": [
        "#  Write a code to create a string with your name and print it ?\n",
        "my_name = \"Girish Patil\"\n",
        "\n",
        "print(my_name)\n"
      ],
      "metadata": {
        "colab": {
          "base_uri": "https://localhost:8080/"
        },
        "id": "Hsm4Hc0FmZpZ",
        "outputId": "c05a6aac-725a-4c44-b9e5-9964121e504e"
      },
      "execution_count": 2,
      "outputs": [
        {
          "output_type": "stream",
          "name": "stdout",
          "text": [
            "Girish Patil\n"
          ]
        }
      ]
    },
    {
      "cell_type": "code",
      "source": [
        "# Write a code to find the length of the string \"Hello World\"\n",
        "my_string = \"Hello World\"\n",
        "\n",
        "length = len(my_string)\n",
        "print(length)\n"
      ],
      "metadata": {
        "colab": {
          "base_uri": "https://localhost:8080/"
        },
        "id": "SQjy4khNuAbW",
        "outputId": "4a547eb5-f20e-48e2-aeb1-473f48ca0b1a"
      },
      "execution_count": 3,
      "outputs": [
        {
          "output_type": "stream",
          "name": "stdout",
          "text": [
            "11\n"
          ]
        }
      ]
    },
    {
      "cell_type": "code",
      "source": [
        "# Write a code to slice the first 3 characters from the string \"Python Programming\"\n",
        "my_string = \"Python Programming\"\n",
        "\n",
        "sliced_string = my_string[:3]\n",
        "\n",
        "print(sliced_string)\n"
      ],
      "metadata": {
        "colab": {
          "base_uri": "https://localhost:8080/"
        },
        "id": "3lzfTbGguTUT",
        "outputId": "e8ad1cc4-172a-444c-9dd3-779490dc1add"
      },
      "execution_count": 4,
      "outputs": [
        {
          "output_type": "stream",
          "name": "stdout",
          "text": [
            "Pyt\n"
          ]
        }
      ]
    },
    {
      "cell_type": "code",
      "source": [
        "# Write a code to convert the string \"hello\" to uppercase\n",
        "my_string = \"hello\"\n",
        "\n",
        "uppercase_string = my_string.upper()\n",
        "\n",
        "print(uppercase_string)\n"
      ],
      "metadata": {
        "colab": {
          "base_uri": "https://localhost:8080/"
        },
        "id": "H4MqlJ1Numcl",
        "outputId": "9a98e7d8-6f8b-4d56-a6f4-8e7743c15f6f"
      },
      "execution_count": 5,
      "outputs": [
        {
          "output_type": "stream",
          "name": "stdout",
          "text": [
            "HELLO\n"
          ]
        }
      ]
    },
    {
      "cell_type": "code",
      "source": [
        "# Write a code to replace the word \"apple\" with \"orange\" in the string \"I like apple\"\n",
        "my_string = \"I like apple\"\n",
        "\n",
        "replaced_string = my_string.replace(\"apple\", \"orange\")\n",
        "\n",
        "print(replaced_string)\n"
      ],
      "metadata": {
        "colab": {
          "base_uri": "https://localhost:8080/"
        },
        "id": "uCXIzNHgvDzt",
        "outputId": "a9369e92-ee07-4cc8-9c82-f7b017a7e48d"
      },
      "execution_count": 6,
      "outputs": [
        {
          "output_type": "stream",
          "name": "stdout",
          "text": [
            "I like orange\n"
          ]
        }
      ]
    },
    {
      "cell_type": "code",
      "source": [
        "# Write a code to create a list with numbers 1 to 5 and print it\n",
        "my_list = [1, 2, 3, 4, 5]\n",
        "\n",
        "print(my_list)\n"
      ],
      "metadata": {
        "colab": {
          "base_uri": "https://localhost:8080/"
        },
        "id": "nnuWbkB4vUkw",
        "outputId": "c433f55b-386b-433c-ffeb-5953cd48f4fc"
      },
      "execution_count": 7,
      "outputs": [
        {
          "output_type": "stream",
          "name": "stdout",
          "text": [
            "[1, 2, 3, 4, 5]\n"
          ]
        }
      ]
    },
    {
      "cell_type": "code",
      "source": [
        "# Write a code to append the number 10 to the list [1, 2, 3, 4]\n",
        "my_list = [1, 2, 3, 4]\n",
        "\n",
        "my_list.append(10)\n",
        "\n",
        "print(my_list)\n"
      ],
      "metadata": {
        "colab": {
          "base_uri": "https://localhost:8080/"
        },
        "id": "nC3Vyot-vjxV",
        "outputId": "455caea6-2976-47b1-9883-674f500f673a"
      },
      "execution_count": 8,
      "outputs": [
        {
          "output_type": "stream",
          "name": "stdout",
          "text": [
            "[1, 2, 3, 4, 10]\n"
          ]
        }
      ]
    },
    {
      "cell_type": "code",
      "source": [
        "# Write a code to remove the number 3 from the list [1, 2, 3, 4, 5]\n",
        "# Define the list\n",
        "my_list = [1, 2, 3, 4, 5]\n",
        "\n",
        "my_list.remove(3)\n",
        "\n",
        "print(my_list)\n"
      ],
      "metadata": {
        "colab": {
          "base_uri": "https://localhost:8080/"
        },
        "id": "D5fef7Vpv0os",
        "outputId": "93a0ee56-88a4-4ab6-bc14-a820cf23f567"
      },
      "execution_count": 9,
      "outputs": [
        {
          "output_type": "stream",
          "name": "stdout",
          "text": [
            "[1, 2, 4, 5]\n"
          ]
        }
      ]
    },
    {
      "cell_type": "code",
      "source": [
        "# Write a code to access the second element in the list ['a', 'b', 'c', 'd']\n",
        "my_list = ['a', 'b', 'c', 'd']\n",
        "\n",
        "second_element = my_list[1]\n",
        "\n",
        "print(second_element)\n"
      ],
      "metadata": {
        "colab": {
          "base_uri": "https://localhost:8080/"
        },
        "id": "SVkYD6WowFVB",
        "outputId": "dd4fd049-2b60-4a19-8da9-8dea7ddd36db"
      },
      "execution_count": 10,
      "outputs": [
        {
          "output_type": "stream",
          "name": "stdout",
          "text": [
            "b\n"
          ]
        }
      ]
    },
    {
      "cell_type": "code",
      "source": [
        "# Write a code to reverse the list [10, 20, 30, 40, 50]\n",
        "\n",
        "my_list = [10, 20, 30, 40, 50]\n",
        "\n",
        "my_list.reverse()\n",
        "\n",
        "print(my_list)\n"
      ],
      "metadata": {
        "colab": {
          "base_uri": "https://localhost:8080/"
        },
        "id": "4KchmOHRwayU",
        "outputId": "c19cd694-a67e-4950-e567-d1ab38a7f472"
      },
      "execution_count": 11,
      "outputs": [
        {
          "output_type": "stream",
          "name": "stdout",
          "text": [
            "[50, 40, 30, 20, 10]\n"
          ]
        }
      ]
    },
    {
      "cell_type": "code",
      "source": [
        "#  Write a code to create a tuple with the elements 10, 20, 30 and print it.\n",
        "\n",
        "my_tuple = (10, 20, 30)\n",
        "\n",
        "print(my_tuple)\n"
      ],
      "metadata": {
        "colab": {
          "base_uri": "https://localhost:8080/"
        },
        "id": "_nTlPf48wtsR",
        "outputId": "5112c62f-3f49-4264-e69b-2415429c50ce"
      },
      "execution_count": 12,
      "outputs": [
        {
          "output_type": "stream",
          "name": "stdout",
          "text": [
            "(10, 20, 30)\n"
          ]
        }
      ]
    },
    {
      "cell_type": "code",
      "source": [
        "# Write a code to access the first element of the tuple ('apple', 'banana', 'cherry')\n",
        "\n",
        "my_tuple = ('apple', 'banana', 'cherry')\n",
        "\n",
        "first_element = my_tuple[0]\n",
        "\n",
        "print(first_element)\n"
      ],
      "metadata": {
        "colab": {
          "base_uri": "https://localhost:8080/"
        },
        "id": "E6C7BKBLw-iB",
        "outputId": "0d224b9b-086a-4d9f-a16b-9f460e138c39"
      },
      "execution_count": 14,
      "outputs": [
        {
          "output_type": "stream",
          "name": "stdout",
          "text": [
            "apple\n"
          ]
        }
      ]
    },
    {
      "cell_type": "code",
      "source": [
        "#  Write a code to count how many times the number 2 appears in the tuple (1, 2, 3, 2, 4, 2)\n",
        "\n",
        "my_tuple = (1, 2, 3, 2, 4, 2)\n",
        "\n",
        "count_2 = my_tuple.count(2)\n",
        "\n",
        "print(count_2)\n"
      ],
      "metadata": {
        "colab": {
          "base_uri": "https://localhost:8080/"
        },
        "id": "m3fGuWrKxkJ3",
        "outputId": "e400ffcd-58d5-4652-fbd6-866d215fc827"
      },
      "execution_count": 15,
      "outputs": [
        {
          "output_type": "stream",
          "name": "stdout",
          "text": [
            "3\n"
          ]
        }
      ]
    },
    {
      "cell_type": "code",
      "source": [
        "# Write a code to find the index of the element \"cat\" in the tuple ('dog', 'cat', 'rabbit').\n",
        "\n",
        "my_tuple = ('dog', 'cat', 'rabbit')\n",
        "\n",
        "index_of_cat = my_tuple.index('cat')\n",
        "\n",
        "print(index_of_cat)\n"
      ],
      "metadata": {
        "colab": {
          "base_uri": "https://localhost:8080/"
        },
        "id": "CnIxOuLTx0Kf",
        "outputId": "869f0667-ecbe-4af4-ca0e-cd803fc09504"
      },
      "execution_count": 16,
      "outputs": [
        {
          "output_type": "stream",
          "name": "stdout",
          "text": [
            "1\n"
          ]
        }
      ]
    },
    {
      "cell_type": "code",
      "source": [
        "# Write a code to check if the element \"banana\" is in the tuple ('apple', 'orange', 'banana').\n",
        "\n",
        "my_tuple = ('apple', 'orange', 'banana')\n",
        "\n",
        "is_banana_in_tuple = 'banana' in my_tuple\n",
        "\n",
        "print(is_banana_in_tuple)\n"
      ],
      "metadata": {
        "colab": {
          "base_uri": "https://localhost:8080/"
        },
        "id": "mrufupf9yCbK",
        "outputId": "5c9d9c84-70d4-49e7-a0fd-15874c7b5981"
      },
      "execution_count": 20,
      "outputs": [
        {
          "output_type": "stream",
          "name": "stdout",
          "text": [
            "True\n"
          ]
        }
      ]
    },
    {
      "cell_type": "code",
      "source": [
        "#  Write a code to create a set with the elements 1, 2, 3, 4, 5 and print it.\n",
        "\n",
        "my_set = {1, 2, 3, 4, 5}\n",
        "\n",
        "print(my_set)\n"
      ],
      "metadata": {
        "colab": {
          "base_uri": "https://localhost:8080/"
        },
        "id": "YNVRkTSpyi1f",
        "outputId": "31a3ed3d-110a-41e6-b58c-354d30087a80"
      },
      "execution_count": 21,
      "outputs": [
        {
          "output_type": "stream",
          "name": "stdout",
          "text": [
            "{1, 2, 3, 4, 5}\n"
          ]
        }
      ]
    },
    {
      "cell_type": "code",
      "source": [
        "#  Write a code to add the element 6 to the set {1, 2, 3, 4}.\n",
        "\n",
        "my_set = {1, 2, 3, 4}\n",
        "\n",
        "my_set.add(6)\n",
        "\n",
        "print(my_set)\n"
      ],
      "metadata": {
        "colab": {
          "base_uri": "https://localhost:8080/"
        },
        "id": "NcYQ-gO-yvcO",
        "outputId": "07694fcd-f293-4063-ab11-17ce57d28c76"
      },
      "execution_count": 22,
      "outputs": [
        {
          "output_type": "stream",
          "name": "stdout",
          "text": [
            "{1, 2, 3, 4, 6}\n"
          ]
        }
      ]
    },
    {
      "cell_type": "code",
      "source": [
        "#  Write a code to create a tuple with the elements 10, 20, 30 and print it\n",
        "\n",
        "my_tuple = (10, 20, 30)\n",
        "\n",
        "print(my_tuple)\n"
      ],
      "metadata": {
        "colab": {
          "base_uri": "https://localhost:8080/"
        },
        "id": "hhvjtaAdy9jo",
        "outputId": "5b02fe24-6ab7-468c-8ae0-86a68e859173"
      },
      "execution_count": 23,
      "outputs": [
        {
          "output_type": "stream",
          "name": "stdout",
          "text": [
            "(10, 20, 30)\n"
          ]
        }
      ]
    }
  ]
}